{
 "cells": [
  {
   "cell_type": "markdown",
   "id": "b1649bab",
   "metadata": {},
   "source": [
    "### Decorators\n",
    "Decorators are a powerful and flexible feature in python that allows you to modify the behaviour of a function or class method.They are commonly used to add functionality to funtions or methods without modifying their actual code."
   ]
  },
  {
   "cell_type": "code",
   "execution_count": 12,
   "id": "23be7024",
   "metadata": {},
   "outputs": [
    {
     "data": {
      "text/plain": [
       "'Welcome to our class'"
      ]
     },
     "execution_count": 12,
     "metadata": {},
     "output_type": "execute_result"
    }
   ],
   "source": [
    "### function copy\n",
    "def welcome():\n",
    "    return \"Welcome to our class\"\n",
    "welcome()"
   ]
  },
  {
   "cell_type": "code",
   "execution_count": 13,
   "id": "1d45d182",
   "metadata": {},
   "outputs": [
    {
     "name": "stdout",
     "output_type": "stream",
     "text": [
      "Welcome to our class\n",
      "Welcome to our class\n"
     ]
    }
   ],
   "source": [
    "wel=welcome\n",
    "print(wel())\n",
    "del welcome\n",
    "print(wel())"
   ]
  },
  {
   "cell_type": "code",
   "execution_count": 18,
   "id": "dbd4c263",
   "metadata": {},
   "outputs": [],
   "source": [
    "## closures : a function inside a function\n",
    "def main_welcome(msg):\n",
    "    \n",
    "    def sub_welcome():\n",
    "        print(\"Welcome david\")\n",
    "        print(msg)\n",
    "        print(\"Please learn this concept properly\")\n",
    "    return sub_welcome()"
   ]
  },
  {
   "cell_type": "code",
   "execution_count": 19,
   "id": "44c1a6a3",
   "metadata": {},
   "outputs": [
    {
     "name": "stdout",
     "output_type": "stream",
     "text": [
      "Welcome david\n",
      "Welcome everyone\n",
      "Please learn this concept properly\n"
     ]
    }
   ],
   "source": [
    "main_welcome(\"Welcome everyone\")"
   ]
  },
  {
   "cell_type": "code",
   "execution_count": null,
   "id": "696e1126",
   "metadata": {},
   "outputs": [],
   "source": [
    "def main_welcome(func): # function as a parameter\n",
    "    \n",
    "    def sub_welcome():\n",
    "        print(\"Welcome david\")\n",
    "        func(\"Welcome everyone to my github\")\n",
    "        print(\"Please learn this concept properly\")\n",
    "    return sub_welcome()"
   ]
  },
  {
   "cell_type": "code",
   "execution_count": 25,
   "id": "2a05a3e5",
   "metadata": {},
   "outputs": [
    {
     "name": "stdout",
     "output_type": "stream",
     "text": [
      "Welcome david\n",
      "Welcome everyone to my github\n",
      "Please learn this concept properly\n"
     ]
    }
   ],
   "source": [
    "main_welcome(print)"
   ]
  },
  {
   "cell_type": "code",
   "execution_count": 28,
   "id": "619e6983",
   "metadata": {},
   "outputs": [],
   "source": [
    "def main_welcome(func,lst):\n",
    "    \n",
    "    def sub_welcome():\n",
    "        print(\"Welcome david\")\n",
    "        print(func(lst))\n",
    "        print(\"Please learn this concept properly\")\n",
    "    return sub_welcome()"
   ]
  },
  {
   "cell_type": "code",
   "execution_count": 29,
   "id": "b33af4e0",
   "metadata": {},
   "outputs": [
    {
     "name": "stdout",
     "output_type": "stream",
     "text": [
      "Welcome david\n",
      "6\n",
      "Please learn this concept properly\n"
     ]
    }
   ],
   "source": [
    "main_welcome(len,[1,2,3,4,5,6])"
   ]
  },
  {
   "cell_type": "code",
   "execution_count": 31,
   "id": "36e2cbd3",
   "metadata": {},
   "outputs": [],
   "source": [
    "## decorators\n",
    "def main_welcome(func):\n",
    "    \n",
    "    def sub_welcome():\n",
    "        print(\"Welcome david\")\n",
    "        func()\n",
    "        print(\"Please learn this concept properly\")\n",
    "    return sub_welcome()"
   ]
  },
  {
   "cell_type": "code",
   "execution_count": 33,
   "id": "64f20bb8",
   "metadata": {},
   "outputs": [
    {
     "name": "stdout",
     "output_type": "stream",
     "text": [
      "This is my pushable code for github\n"
     ]
    }
   ],
   "source": [
    "def git():\n",
    "    print(\"This is my pushable code for github\")\n",
    "\n",
    "git()"
   ]
  },
  {
   "cell_type": "code",
   "execution_count": 35,
   "id": "ae858399",
   "metadata": {},
   "outputs": [
    {
     "name": "stdout",
     "output_type": "stream",
     "text": [
      "Welcome david\n",
      "This is my pushable code for github\n",
      "Please learn this concept properly\n"
     ]
    }
   ],
   "source": [
    "main_welcome(git)"
   ]
  },
  {
   "cell_type": "code",
   "execution_count": 37,
   "id": "e4aa599c",
   "metadata": {},
   "outputs": [
    {
     "name": "stdout",
     "output_type": "stream",
     "text": [
      "Welcome david\n",
      "This is my pushable code for github\n",
      "Please learn this concept properly\n"
     ]
    }
   ],
   "source": [
    "@main_welcome ## decorator(it is going inside ->\"main_welcome(git)\" <-this as a parameter)\n",
    "def git():\n",
    "    print(\"This is my pushable code for github\")"
   ]
  },
  {
   "cell_type": "code",
   "execution_count": 38,
   "id": "5b3dd876",
   "metadata": {},
   "outputs": [],
   "source": [
    "## decorator\n",
    "def my_decorator(func):\n",
    "    def wrapper():\n",
    "        print(\"Something is happening before the function call\")\n",
    "        func()\n",
    "        print(\"Something is happening after the function call\")\n",
    "    return wrapper"
   ]
  },
  {
   "cell_type": "code",
   "execution_count": 39,
   "id": "a288ba56",
   "metadata": {},
   "outputs": [],
   "source": [
    "@my_decorator\n",
    "def say_hello():\n",
    "    print(\"Hello!!\")"
   ]
  },
  {
   "cell_type": "code",
   "execution_count": 40,
   "id": "e494250e",
   "metadata": {},
   "outputs": [
    {
     "name": "stdout",
     "output_type": "stream",
     "text": [
      "Something is happening before the function call\n",
      "Hello!!\n",
      "Something is happening after the function call\n"
     ]
    }
   ],
   "source": [
    "say_hello()"
   ]
  },
  {
   "cell_type": "code",
   "execution_count": 41,
   "id": "12225b23",
   "metadata": {},
   "outputs": [],
   "source": [
    "## decorators with arguments\n",
    "def repeat(n):\n",
    "    def decorator(func):\n",
    "        def wrapper(*args,**kwargs):\n",
    "            for _ in range(n):\n",
    "                func(*args,**kwargs)\n",
    "        return wrapper\n",
    "    return decorator"
   ]
  },
  {
   "cell_type": "code",
   "execution_count": 42,
   "id": "dfcafc07",
   "metadata": {},
   "outputs": [],
   "source": [
    "@repeat(3)\n",
    "def say_hello():\n",
    "    print(\"Hello\")"
   ]
  },
  {
   "cell_type": "code",
   "execution_count": 43,
   "id": "a510454b",
   "metadata": {},
   "outputs": [
    {
     "name": "stdout",
     "output_type": "stream",
     "text": [
      "Hello\n",
      "Hello\n",
      "Hello\n"
     ]
    }
   ],
   "source": [
    "say_hello()"
   ]
  },
  {
   "cell_type": "code",
   "execution_count": null,
   "id": "77cf406b",
   "metadata": {},
   "outputs": [],
   "source": []
  }
 ],
 "metadata": {
  "kernelspec": {
   "display_name": "Python 3",
   "language": "python",
   "name": "python3"
  },
  "language_info": {
   "codemirror_mode": {
    "name": "ipython",
    "version": 3
   },
   "file_extension": ".py",
   "mimetype": "text/x-python",
   "name": "python",
   "nbconvert_exporter": "python",
   "pygments_lexer": "ipython3",
   "version": "3.12.0"
  }
 },
 "nbformat": 4,
 "nbformat_minor": 5
}
