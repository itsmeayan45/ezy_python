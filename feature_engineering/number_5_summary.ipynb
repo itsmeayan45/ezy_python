{
 "cells": [
  {
   "cell_type": "markdown",
   "id": "b826ec75",
   "metadata": {},
   "source": [
    "### 5 number summery and box plot"
   ]
  },
  {
   "cell_type": "code",
   "execution_count": 1,
   "id": "c6bf2044",
   "metadata": {},
   "outputs": [],
   "source": [
    "### minimum,maximum,median,q1,q3,iqr"
   ]
  },
  {
   "cell_type": "code",
   "execution_count": 2,
   "id": "9dadcc9b",
   "metadata": {},
   "outputs": [],
   "source": [
    "import numpy as np\n"
   ]
  },
  {
   "cell_type": "code",
   "execution_count": 5,
   "id": "ccb129e2",
   "metadata": {},
   "outputs": [],
   "source": [
    "lst_marks=[45,43,57,85,97,99,32,54,64,75,91,67,59,90,29]\n",
    "minimum,Q1,median,Q3,maximum=np.quantile(lst_marks,[0,0.25,0.50,0.75,1.0])"
   ]
  },
  {
   "cell_type": "code",
   "execution_count": 6,
   "id": "c42efa9c",
   "metadata": {},
   "outputs": [
    {
     "data": {
      "text/plain": [
       "(np.float64(29.0),\n",
       " np.float64(49.5),\n",
       " np.float64(64.0),\n",
       " np.float64(87.5),\n",
       " np.float64(99.0))"
      ]
     },
     "execution_count": 6,
     "metadata": {},
     "output_type": "execute_result"
    }
   ],
   "source": [
    "minimum,Q1,median,Q3,maximum"
   ]
  },
  {
   "cell_type": "code",
   "execution_count": 8,
   "id": "ff210fea",
   "metadata": {},
   "outputs": [
    {
     "name": "stdout",
     "output_type": "stream",
     "text": [
      "38.0\n"
     ]
    }
   ],
   "source": [
    "IQR=Q3-Q1\n",
    "print(IQR)\n"
   ]
  },
  {
   "cell_type": "code",
   "execution_count": 9,
   "id": "3a50cdf6",
   "metadata": {},
   "outputs": [
    {
     "name": "stdout",
     "output_type": "stream",
     "text": [
      "-7.5\n",
      "144.5\n"
     ]
    }
   ],
   "source": [
    "lower_fence=Q1-1.5*(IQR)\n",
    "higher_fence=Q3+1.5*(IQR)\n",
    "print(lower_fence)\n",
    "print(higher_fence)"
   ]
  },
  {
   "cell_type": "code",
   "execution_count": 10,
   "id": "d4c00030",
   "metadata": {},
   "outputs": [],
   "source": [
    "lst_marks=[45,43,57,85,97,99,32,54,64,75,91,67,59,90,29]"
   ]
  },
  {
   "cell_type": "code",
   "execution_count": 11,
   "id": "b2e8b537",
   "metadata": {},
   "outputs": [
    {
     "data": {
      "text/plain": [
       "<Axes: >"
      ]
     },
     "execution_count": 11,
     "metadata": {},
     "output_type": "execute_result"
    },
    {
     "data": {
      "image/png": "[encoded data removed]",
      "text/plain": [
       "<Figure size 640x480 with 1 Axes>"
      ]
     },
     "metadata": {},
     "output_type": "display_data"
    }
   ],
   "source": [
    "import seaborn as sns\n",
    "sns.boxplot(lst_marks)"
   ]
  },
  {
   "cell_type": "code",
   "execution_count": 14,
   "id": "ecb802c0",
   "metadata": {},
   "outputs": [],
   "source": [
    "lst_marks=[-100,-200,45,43,57,85,97,99,32,54,64,75,91,67,59,90,29,150,170,180]"
   ]
  },
  {
   "cell_type": "code",
   "execution_count": 15,
   "id": "4277df1a",
   "metadata": {},
   "outputs": [
    {
     "data": {
      "text/plain": [
       "<Axes: >"
      ]
     },
     "execution_count": 15,
     "metadata": {},
     "output_type": "execute_result"
    },
    {
     "data": {
      "image/png": "[encoded data removed]",
      "text/plain": [
       "<Figure size 640x480 with 1 Axes>"
      ]
     },
     "metadata": {},
     "output_type": "display_data"
    }
   ],
   "source": [
    "sns.boxplot(lst_marks)"
   ]
  },
  {
   "cell_type": "code",
   "execution_count": null,
   "id": "2cf8f0ff",
   "metadata": {},
   "outputs": [],
   "source": []
  }
 ],
 "metadata": {
  "kernelspec": {
   "display_name": "Python 3",
   "language": "python",
   "name": "python3"
  },
  "language_info": {
   "codemirror_mode": {
    "name": "ipython",
    "version": 3
   },
   "file_extension": ".py",
   "mimetype": "text/x-python",
   "name": "python",
   "nbconvert_exporter": "python",
   "pygments_lexer": "ipython3",
   "version": "3.12.0"
  }
 },
 "nbformat": 4,
 "nbformat_minor": 5
}
