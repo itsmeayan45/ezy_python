{
 "cells": [
  {
   "cell_type": "code",
   "execution_count": 1,
   "id": "e99bcbb1",
   "metadata": {},
   "outputs": [
    {
     "name": "stdout",
     "output_type": "stream",
     "text": [
      "<class 'list'>\n"
     ]
    }
   ],
   "source": [
    "lst=[]\n",
    "print(type(lst))"
   ]
  },
  {
   "cell_type": "code",
   "execution_count": null,
   "id": "a3004df4",
   "metadata": {},
   "outputs": [
    {
     "name": "stdout",
     "output_type": "stream",
     "text": [
      "['atan', 'janu', 'jaan', 1, 2, 3, 5]\n",
      "atan\n",
      "5\n",
      "['janu', 'jaan', 1, 2, 3, 5]\n",
      "atan\n",
      "janu\n",
      "jaan\n",
      "1\n",
      "2\n",
      "3\n",
      "5\n"
     ]
    }
   ],
   "source": [
    "names=['atan','janu','jaan',1,2,3,5]\n",
    "print(names)\n",
    "print(names[0])\n",
    "print(names[-1]) # last item\n",
    "print(names[1:]) # from first index to the last index item\n",
    "\n",
    "\n",
    "# accessing list items\n",
    "for u in names:\n",
    "    print(u)"
   ]
  },
  {
   "cell_type": "code",
   "execution_count": 5,
   "id": "8f07a355",
   "metadata": {},
   "outputs": [
    {
     "name": "stdout",
     "output_type": "stream",
     "text": [
      "[5]\n"
     ]
    }
   ],
   "source": [
    "names=['atan','janu','jaan',1,2,3,5]\n",
    "print(names[-1:])"
   ]
  },
  {
   "cell_type": "code",
   "execution_count": 6,
   "id": "b458b7d2",
   "metadata": {},
   "outputs": [
    {
     "name": "stdout",
     "output_type": "stream",
     "text": [
      "['apple', 'juice', 'watermelon', 'mango', 'guava']\n"
     ]
    }
   ],
   "source": [
    "#modifying list element\n",
    "fruits=[\"apple\",\"banana\",\"watermelon\",\"mango\",\"guava\"]\n",
    "fruits[1]=\"juice\"\n",
    "print(fruits)"
   ]
  },
  {
   "cell_type": "code",
   "execution_count": 7,
   "id": "02868fbf",
   "metadata": {},
   "outputs": [
    {
     "data": {
      "text/plain": [
       "['apple', 'c', 'h', 'a', 'i']"
      ]
     },
     "execution_count": 7,
     "metadata": {},
     "output_type": "execute_result"
    }
   ],
   "source": [
    "fruits[1:]=\"chai\"\n",
    "fruits"
   ]
  },
  {
   "cell_type": "code",
   "execution_count": 10,
   "id": "7551a646",
   "metadata": {},
   "outputs": [
    {
     "data": {
      "text/plain": [
       "['apple', 'banana', 'watermelon', 'mango', 'guava', 'orange']"
      ]
     },
     "execution_count": 10,
     "metadata": {},
     "output_type": "execute_result"
    }
   ],
   "source": [
    "fruits=[\"apple\",\"banana\",\"watermelon\",\"mango\",\"guava\"]\n",
    "fruits.append(\"orange\")\n",
    "fruits"
   ]
  },
  {
   "cell_type": "code",
   "execution_count": 11,
   "id": "4fa1deb4",
   "metadata": {},
   "outputs": [
    {
     "data": {
      "text/plain": [
       "['apple', 'kiwi', 'banana', 'watermelon', 'mango', 'guava', 'orange']"
      ]
     },
     "execution_count": 11,
     "metadata": {},
     "output_type": "execute_result"
    }
   ],
   "source": [
    "fruits.insert(1,\"kiwi\")\n",
    "fruits"
   ]
  },
  {
   "cell_type": "code",
   "execution_count": null,
   "id": "33ac63d5",
   "metadata": {},
   "outputs": [
    {
     "data": {
      "text/plain": [
       "['apple', 'banana', 'mango', 'guava', 'orange']"
      ]
     },
     "execution_count": 15,
     "metadata": {},
     "output_type": "execute_result"
    }
   ],
   "source": [
    "fruits.remove(\"watermelon\") # removing the first occurance of an item\n",
    "fruits"
   ]
  },
  {
   "cell_type": "code",
   "execution_count": 21,
   "id": "8b120109",
   "metadata": {},
   "outputs": [
    {
     "data": {
      "text/plain": [
       "['apple', 'banana', 'watermelon', 'mango']"
      ]
     },
     "execution_count": 21,
     "metadata": {},
     "output_type": "execute_result"
    }
   ],
   "source": [
    "fruits=[\"apple\",\"banana\",\"watermelon\",\"mango\",\"guava\"]\n",
    "ld=fruits.pop()\n",
    "ld\n",
    "fruits"
   ]
  },
  {
   "cell_type": "code",
   "execution_count": null,
   "id": "bb6059c6",
   "metadata": {},
   "outputs": [],
   "source": [
    "fruits.sort() #sort the list in ascending order"
   ]
  },
  {
   "cell_type": "code",
   "execution_count": 24,
   "id": "1b467b46",
   "metadata": {},
   "outputs": [
    {
     "data": {
      "text/plain": [
       "['watermelon', 'mango', 'banana', 'apple']"
      ]
     },
     "execution_count": 24,
     "metadata": {},
     "output_type": "execute_result"
    }
   ],
   "source": [
    "fruits.reverse()\n",
    "fruits"
   ]
  },
  {
   "cell_type": "markdown",
   "id": "cfab1183",
   "metadata": {},
   "source": [
    "Slicing List\n"
   ]
  },
  {
   "cell_type": "code",
   "execution_count": 28,
   "id": "35be8ba5",
   "metadata": {},
   "outputs": [
    {
     "name": "stdout",
     "output_type": "stream",
     "text": [
      "[3, 4, 5]\n",
      "[1, 2, 3, 4, 5]\n",
      "[6, 7, 8, 9, 10]\n",
      "[1, 3, 5, 7, 9]\n",
      "[10, 9, 8, 7, 6, 5, 4, 3, 2, 1]\n"
     ]
    }
   ],
   "source": [
    "num=[1,2,3,4,5,6,7,8,9,10]\n",
    "print(num[2:5]) #from 2 to 5 but not including 5\n",
    "print(num[:5])\n",
    "print(num[5:])\n",
    "print(num[::2])\n",
    "print(num[::-1])"
   ]
  },
  {
   "cell_type": "markdown",
   "id": "f5cb6c91",
   "metadata": {},
   "source": [
    "Iterating over list\n"
   ]
  },
  {
   "cell_type": "code",
   "execution_count": 34,
   "id": "d3ca45b1",
   "metadata": {},
   "outputs": [
    {
     "name": "stdout",
     "output_type": "stream",
     "text": [
      "0 1\n",
      "1 2\n",
      "2 3\n",
      "3 4\n",
      "4 5\n",
      "5 6\n",
      "6 7\n",
      "7 8\n",
      "8 9\n",
      "9 10\n"
     ]
    }
   ],
   "source": [
    "num=[1,2,3,4,5,6,7,8,9,10]\n",
    "for index,number in enumerate(num):\n",
    "    print(index,number)"
   ]
  },
  {
   "cell_type": "code",
   "execution_count": 35,
   "id": "16ae56ab",
   "metadata": {},
   "outputs": [
    {
     "name": "stdout",
     "output_type": "stream",
     "text": [
      "[0, 1, 4, 9, 16, 25, 36, 49, 64, 81]\n"
     ]
    }
   ],
   "source": [
    "lst=[]\n",
    "for x in range(10):\n",
    "    lst.append(x**2)\n",
    "print(lst)"
   ]
  },
  {
   "cell_type": "markdown",
   "id": "58c2b326",
   "metadata": {},
   "source": [
    "List comprehension"
   ]
  },
  {
   "cell_type": "code",
   "execution_count": 37,
   "id": "5404aa30",
   "metadata": {},
   "outputs": [
    {
     "data": {
      "text/plain": [
       "[0, 1, 4, 9, 16, 25, 36, 49, 64, 81]"
      ]
     },
     "execution_count": 37,
     "metadata": {},
     "output_type": "execute_result"
    }
   ],
   "source": [
    "[x**2 for x in range(10)] # this is called lsit comprehension\n",
    "# basic syntax for this expression is [expression for item in iterable]"
   ]
  },
  {
   "cell_type": "code",
   "execution_count": 40,
   "id": "2c307b1d",
   "metadata": {},
   "outputs": [
    {
     "name": "stdout",
     "output_type": "stream",
     "text": [
      "[0, 4, 16, 36, 64]\n"
     ]
    }
   ],
   "source": [
    "square=[num **2 for num in range(10) if num%2==0]\n",
    "print(square)"
   ]
  },
  {
   "cell_type": "markdown",
   "id": "7975abee",
   "metadata": {},
   "source": [
    "Nested list comprehension"
   ]
  },
  {
   "cell_type": "code",
   "execution_count": 41,
   "id": "840728e8",
   "metadata": {},
   "outputs": [
    {
     "data": {
      "text/plain": [
       "[[1, 'a'],\n",
       " [1, 'b'],\n",
       " [1, 'c'],\n",
       " [1, 'd'],\n",
       " [2, 'a'],\n",
       " [2, 'b'],\n",
       " [2, 'c'],\n",
       " [2, 'd'],\n",
       " [3, 'a'],\n",
       " [3, 'b'],\n",
       " [3, 'c'],\n",
       " [3, 'd'],\n",
       " [4, 'a'],\n",
       " [4, 'b'],\n",
       " [4, 'c'],\n",
       " [4, 'd']]"
      ]
     },
     "execution_count": 41,
     "metadata": {},
     "output_type": "execute_result"
    }
   ],
   "source": [
    "lst1=[1,2,3,4]\n",
    "lst2=['a','b','c','d']\n",
    "pair=[[i,j] for i in lst1 for j in lst2]\n",
    "pair"
   ]
  },
  {
   "cell_type": "code",
   "execution_count": null,
   "id": "b8a7cdd9",
   "metadata": {},
   "outputs": [],
   "source": []
  },
  {
   "cell_type": "markdown",
   "id": "d7dd580e",
   "metadata": {},
   "source": [
    "Create a TODO list to keep track of tasks"
   ]
  },
  {
   "cell_type": "code",
   "execution_count": 1,
   "id": "1968b004",
   "metadata": {},
   "outputs": [
    {
     "name": "stdout",
     "output_type": "stream",
     "text": [
      "Don't forget to pay the bills\n",
      "To do list remaining\n",
      "-Buy grocesseries\n",
      "-pay bills\n",
      "-schedule meeting\n",
      "-go for a run\n"
     ]
    }
   ],
   "source": [
    "to_do_list=[\"Buy grocesseries\",\"clean the house\",\"pay bills\"]\n",
    "## adding to task\n",
    "to_do_list.append(\"schedule meeting\")\n",
    "to_do_list.append(\"go for a run\")\n",
    "## removing a completed task\n",
    "to_do_list.remove(\"clean the house\")\n",
    "## checked in if a task is completed or not\n",
    "if\"pay bills\" in to_do_list:\n",
    "    print(\"Don't forget to pay the bills\")\n",
    "print(\"To do list remaining\")\n",
    "for task in to_do_list:\n",
    "    print(f\"-{task}\")"
   ]
  },
  {
   "cell_type": "code",
   "execution_count": null,
   "id": "e10ce90c",
   "metadata": {},
   "outputs": [],
   "source": []
  }
 ],
 "metadata": {
  "kernelspec": {
   "display_name": "Python 3",
   "language": "python",
   "name": "python3"
  },
  "language_info": {
   "codemirror_mode": {
    "name": "ipython",
    "version": 3
   },
   "file_extension": ".py",
   "mimetype": "text/x-python",
   "name": "python",
   "nbconvert_exporter": "python",
   "pygments_lexer": "ipython3",
   "version": "3.12.0"
  }
 },
 "nbformat": 4,
 "nbformat_minor": 5
}
