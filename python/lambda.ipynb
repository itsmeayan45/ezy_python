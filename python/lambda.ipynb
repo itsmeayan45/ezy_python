{
 "cells": [
  {
   "cell_type": "code",
   "execution_count": 1,
   "id": "9711469c",
   "metadata": {},
   "outputs": [
    {
     "name": "stdout",
     "output_type": "stream",
     "text": [
      "<class 'function'>\n",
      "11\n"
     ]
    }
   ],
   "source": [
    "add=lambda a,b:a+b\n",
    "print(type(add))\n",
    "print(add(5,6))"
   ]
  },
  {
   "cell_type": "code",
   "execution_count": 5,
   "id": "bf38869e",
   "metadata": {},
   "outputs": [
    {
     "data": {
      "text/plain": [
       "True"
      ]
     },
     "execution_count": 5,
     "metadata": {},
     "output_type": "execute_result"
    }
   ],
   "source": [
    "even1=lambda num:num%2==0\n",
    "even1(12)"
   ]
  },
  {
   "cell_type": "code",
   "execution_count": 3,
   "id": "6692b3d1",
   "metadata": {},
   "outputs": [
    {
     "data": {
      "text/plain": [
       "529"
      ]
     },
     "execution_count": 3,
     "metadata": {},
     "output_type": "execute_result"
    }
   ],
   "source": [
    "def square(x):\n",
    "    return x*x\n",
    "square(23)"
   ]
  },
  {
   "cell_type": "markdown",
   "id": "794383e7",
   "metadata": {},
   "source": [
    "Map function"
   ]
  },
  {
   "cell_type": "code",
   "execution_count": 6,
   "id": "abb360b4",
   "metadata": {},
   "outputs": [
    {
     "data": {
      "text/plain": [
       "[1, 4, 9, 16, 25, 36, 49, 64]"
      ]
     },
     "execution_count": 6,
     "metadata": {},
     "output_type": "execute_result"
    }
   ],
   "source": [
    "num=[1,2,3,4,5,6,7,8]\n",
    "list(map(square,num))"
   ]
  },
  {
   "cell_type": "code",
   "execution_count": 7,
   "id": "05210f3b",
   "metadata": {},
   "outputs": [
    {
     "data": {
      "text/plain": [
       "[1, 4, 9, 16, 25, 36, 49, 64]"
      ]
     },
     "execution_count": 7,
     "metadata": {},
     "output_type": "execute_result"
    }
   ],
   "source": [
    "## lambda function with map\n",
    "num=[1,2,3,4,5,6,7,8]\n",
    "list(map(lambda x:x*x,num))"
   ]
  },
  {
   "cell_type": "code",
   "execution_count": 8,
   "id": "7e5381a2",
   "metadata": {},
   "outputs": [
    {
     "name": "stdout",
     "output_type": "stream",
     "text": [
      "[5, 7, 9]\n"
     ]
    }
   ],
   "source": [
    "## map multiple iterable\n",
    "num1=[1,2,3]\n",
    "num2=[4,5,6]\n",
    "added_num=list(map(lambda x,y:x+y,num1,num2))\n",
    "print(added_num)"
   ]
  },
  {
   "cell_type": "code",
   "execution_count": 9,
   "id": "31685363",
   "metadata": {},
   "outputs": [
    {
     "name": "stdout",
     "output_type": "stream",
     "text": [
      "[1, 2, 3, 4]\n"
     ]
    }
   ],
   "source": [
    "## map() to convert a list of strings to integers\n",
    "str_num=['1','2','3','4']\n",
    "int_num=list(map(int,str_num))\n",
    "print(int_num)"
   ]
  },
  {
   "cell_type": "markdown",
   "id": "b869549b",
   "metadata": {},
   "source": [
    "Filter Function"
   ]
  },
  {
   "cell_type": "code",
   "execution_count": 11,
   "id": "711faa3d",
   "metadata": {},
   "outputs": [
    {
     "data": {
      "text/plain": [
       "True"
      ]
     },
     "execution_count": 11,
     "metadata": {},
     "output_type": "execute_result"
    }
   ],
   "source": [
    "def even(x):\n",
    "    return x%2==0\n",
    "even(24)"
   ]
  },
  {
   "cell_type": "code",
   "execution_count": 12,
   "id": "0f00237e",
   "metadata": {},
   "outputs": [
    {
     "data": {
      "text/plain": [
       "[2, 4, 6, 8, 10]"
      ]
     },
     "execution_count": 12,
     "metadata": {},
     "output_type": "execute_result"
    }
   ],
   "source": [
    "lst=[1,2,3,4,5,6,7,8,9,10]\n",
    "list(filter(even,lst))"
   ]
  },
  {
   "cell_type": "code",
   "execution_count": 14,
   "id": "45e67788",
   "metadata": {},
   "outputs": [
    {
     "name": "stdout",
     "output_type": "stream",
     "text": [
      "[6, 7, 8, 9, 10]\n"
     ]
    }
   ],
   "source": [
    "#filter with lambda\n",
    "lst=[1,2,3,4,5,6,7,8,9,10]\n",
    "gt=list(filter(lambda x:x>5,lst))\n",
    "print(gt)"
   ]
  },
  {
   "cell_type": "code",
   "execution_count": 15,
   "id": "e9bc93c3",
   "metadata": {},
   "outputs": [
    {
     "name": "stdout",
     "output_type": "stream",
     "text": [
      "[6, 8, 10]\n"
     ]
    }
   ],
   "source": [
    "lst=[1,2,3,4,5,6,7,8,9,10]\n",
    "gt_ev=list(filter(lambda x:x>5 and even(x),lst))\n",
    "print(gt_ev)"
   ]
  },
  {
   "cell_type": "code",
   "execution_count": null,
   "id": "94b9845e",
   "metadata": {},
   "outputs": [],
   "source": []
  }
 ],
 "metadata": {
  "kernelspec": {
   "display_name": "Python 3",
   "language": "python",
   "name": "python3"
  },
  "language_info": {
   "codemirror_mode": {
    "name": "ipython",
    "version": 3
   },
   "file_extension": ".py",
   "mimetype": "text/x-python",
   "name": "python",
   "nbconvert_exporter": "python",
   "pygments_lexer": "ipython3",
   "version": "3.12.0"
  }
 },
 "nbformat": 4,
 "nbformat_minor": 5
}
