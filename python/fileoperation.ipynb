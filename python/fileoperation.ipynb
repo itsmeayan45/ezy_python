{
 "cells": [
  {
   "cell_type": "markdown",
   "id": "9a9c311a",
   "metadata": {},
   "source": [
    "file operation and file handling"
   ]
  },
  {
   "cell_type": "code",
   "execution_count": 1,
   "id": "8c157862",
   "metadata": {},
   "outputs": [
    {
     "name": "stdout",
     "output_type": "stream",
     "text": [
      "Hey ayan here\n",
      "what are you doing right now?\n"
     ]
    }
   ],
   "source": [
    "##  read a whole file\n",
    "with open('destination.txt','r') as file:\n",
    "    content=file.read()\n",
    "    print(content)\n"
   ]
  },
  {
   "cell_type": "code",
   "execution_count": null,
   "id": "99d3a41c",
   "metadata": {},
   "outputs": [
    {
     "name": "stdout",
     "output_type": "stream",
     "text": [
      "Hey ayan here\n",
      "what are you doing right now?\n"
     ]
    }
   ],
   "source": [
    "## read a file line by line\n",
    "with open('destination.txt','r') as file:\n",
    "    for line in file:\n",
    "        print(line.strip()) #.strip operation removes the newline character"
   ]
  },
  {
   "cell_type": "code",
   "execution_count": 7,
   "id": "1aed8d5c",
   "metadata": {},
   "outputs": [],
   "source": [
    "## writing a file(overwriting)\n",
    "with open('destination.txt','w') as file:\n",
    "    file.write(\"Hello world\\n\")\n",
    "    file.write(\"This is a new line\")"
   ]
  },
  {
   "cell_type": "code",
   "execution_count": 9,
   "id": "ade5a8cf",
   "metadata": {},
   "outputs": [],
   "source": [
    "## write a file without overwriting\n",
    "with open('destination.txt','a') as file:\n",
    "    file.write(\"\\nAppend operation takes place\\n\")"
   ]
  },
  {
   "cell_type": "code",
   "execution_count": 12,
   "id": "46920fee",
   "metadata": {},
   "outputs": [],
   "source": [
    "# writing a list of lines to a file\n",
    "lines=['First line\\n','Second line\\n','Third line\\n']\n",
    "with open('destination.txt','a') as file:\n",
    "    file.writelines(lines)"
   ]
  },
  {
   "cell_type": "code",
   "execution_count": 13,
   "id": "68c49ffd",
   "metadata": {},
   "outputs": [],
   "source": [
    "## binary files\n",
    "data=b'\\x00\\x01\\x02\\x03\\x04'\n",
    "with open('example.bin','wb') as file:\n",
    "    file.write(data)"
   ]
  },
  {
   "cell_type": "code",
   "execution_count": 14,
   "id": "41fb6380",
   "metadata": {},
   "outputs": [
    {
     "name": "stdout",
     "output_type": "stream",
     "text": [
      "b'\\x00\\x01\\x02\\x03\\x04'\n"
     ]
    }
   ],
   "source": [
    "with open('example.bin','rb') as file:\n",
    "    content= file.read()\n",
    "    print(content)"
   ]
  },
  {
   "cell_type": "code",
   "execution_count": 15,
   "id": "02e2f945",
   "metadata": {},
   "outputs": [],
   "source": [
    "### read the content from a sourse text file and write it to a destination file\n",
    "with open('destination.txt','r') as source:\n",
    "    content=source.read()\n",
    "with open('dest.txt','w') as dest:\n",
    "    dest.write(content)"
   ]
  },
  {
   "cell_type": "code",
   "execution_count": 16,
   "id": "f064b79f",
   "metadata": {},
   "outputs": [
    {
     "name": "stdout",
     "output_type": "stream",
     "text": [
      "Hello World\n",
      "This is a new line\n",
      "\n"
     ]
    }
   ],
   "source": [
    "## writing and then reading a file\n",
    "with open('dest.txt','w+') as file: # w+ is used to open a file for both reading and writing. If the file does not exist,it will be created,if exists,overwritten\n",
    "    file.write(\"Hello World\\n\")\n",
    "    file.write(\"This is a new line\\n\")\n",
    "    # move the file cursor to the begining\n",
    "    file.seek(0)\n",
    "    # read the content of the file\n",
    "    content=file.read()\n",
    "    print(content)"
   ]
  },
  {
   "cell_type": "code",
   "execution_count": null,
   "id": "6d3ed205",
   "metadata": {},
   "outputs": [],
   "source": []
  }
 ],
 "metadata": {
  "kernelspec": {
   "display_name": "Python 3",
   "language": "python",
   "name": "python3"
  },
  "language_info": {
   "codemirror_mode": {
    "name": "ipython",
    "version": 3
   },
   "file_extension": ".py",
   "mimetype": "text/x-python",
   "name": "python",
   "nbconvert_exporter": "python",
   "pygments_lexer": "ipython3",
   "version": "3.12.0"
  }
 },
 "nbformat": 4,
 "nbformat_minor": 5
}
