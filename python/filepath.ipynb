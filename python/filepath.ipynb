{
 "cells": [
  {
   "cell_type": "markdown",
   "id": "361c6e80",
   "metadata": {},
   "source": [
    "Playing with file path"
   ]
  },
  {
   "cell_type": "code",
   "execution_count": 1,
   "id": "01d69b06",
   "metadata": {},
   "outputs": [
    {
     "name": "stdout",
     "output_type": "stream",
     "text": [
      "Current working directory is d:\\Machine Learning\\python\n"
     ]
    }
   ],
   "source": [
    "## know about current working directory\n",
    "import os\n",
    "cwd=os.getcwd()\n",
    "print(f\"Current working directory is {cwd}\")"
   ]
  },
  {
   "cell_type": "code",
   "execution_count": 2,
   "id": "276148c4",
   "metadata": {},
   "outputs": [
    {
     "name": "stdout",
     "output_type": "stream",
     "text": [
      "Directory package is created\n"
     ]
    }
   ],
   "source": [
    "## create a new directory\n",
    "new_dir='package'\n",
    "os.mkdir(new_dir)\n",
    "print(f\"Directory {new_dir} is created\")"
   ]
  },
  {
   "cell_type": "code",
   "execution_count": 3,
   "id": "2a182f7f",
   "metadata": {},
   "outputs": [
    {
     "name": "stdout",
     "output_type": "stream",
     "text": [
      "['conrolflow.ipynb', 'dest.txt', 'destination.txt', 'dictionaries.ipynb', 'example.bin', 'example.csv', 'fileoperation.ipynb', 'filepath.ipynb', 'functions.ipynb', 'import.ipynb', 'lambda.ipynb', 'list.ipynb', 'package', 'sample.txt', 'sets.ipynb', 'source.txt', 'standard_library.ipynb', 'test.ipynb', 'test.py', 'tuples.ipynb', '__init__.py']\n"
     ]
    }
   ],
   "source": [
    "## lsiting files and directory\n",
    "items=os.listdir('.')\n",
    "print(items)"
   ]
  },
  {
   "cell_type": "code",
   "execution_count": 4,
   "id": "8c5d08b9",
   "metadata": {},
   "outputs": [
    {
     "name": "stdout",
     "output_type": "stream",
     "text": [
      "folder\\file.txt\n"
     ]
    }
   ],
   "source": [
    "## joining paths\n",
    "dir_name=\"folder\"\n",
    "file_name=\"file.txt\"\n",
    "full_path=os.path.join(dir_name,file_name)\n",
    "print(full_path)"
   ]
  },
  {
   "cell_type": "code",
   "execution_count": 5,
   "id": "6a8e1133",
   "metadata": {},
   "outputs": [
    {
     "name": "stdout",
     "output_type": "stream",
     "text": [
      "the path example1.txt does not exists\n"
     ]
    }
   ],
   "source": [
    "path=\"example1.txt\"\n",
    "if os.path.exists(path):\n",
    "    print(f\"the path {path} exists\")\n",
    "print(f\"the path {path} does not exists\")"
   ]
  },
  {
   "cell_type": "code",
   "execution_count": 8,
   "id": "1cb974da",
   "metadata": {},
   "outputs": [
    {
     "name": "stdout",
     "output_type": "stream",
     "text": [
      "This path package is a directory\n"
     ]
    }
   ],
   "source": [
    "## checking if a path is file or directory\n",
    "import os\n",
    "path=\"package\"\n",
    "if os.path.isfile(path):\n",
    "    print(f\"This path {path} is a file\")\n",
    "elif os.path.isdir(path):\n",
    "    print(f\"This path {path} is a directory\")\n",
    "else:\n",
    "    print(f\"This path {path} is neither a file nor a directory\")"
   ]
  },
  {
   "cell_type": "code",
   "execution_count": 9,
   "id": "10385e65",
   "metadata": {},
   "outputs": [
    {
     "name": "stdout",
     "output_type": "stream",
     "text": [
      "d:\\Machine Learning\\python\\dest.txt\n"
     ]
    }
   ],
   "source": [
    "## getting the absolute path\n",
    "relative_path=\"dest.txt\"\n",
    "abs_path=os.path.abspath(relative_path)\n",
    "print(abs_path)"
   ]
  },
  {
   "cell_type": "code",
   "execution_count": null,
   "id": "219a4663",
   "metadata": {},
   "outputs": [],
   "source": []
  }
 ],
 "metadata": {
  "kernelspec": {
   "display_name": "Python 3",
   "language": "python",
   "name": "python3"
  },
  "language_info": {
   "codemirror_mode": {
    "name": "ipython",
    "version": 3
   },
   "file_extension": ".py",
   "mimetype": "text/x-python",
   "name": "python",
   "nbconvert_exporter": "python",
   "pygments_lexer": "ipython3",
   "version": "3.12.0"
  }
 },
 "nbformat": 4,
 "nbformat_minor": 5
}
