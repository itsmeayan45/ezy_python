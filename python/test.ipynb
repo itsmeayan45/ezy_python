{
 "cells": [
  {
   "cell_type": "markdown",
   "id": "bf349540",
   "metadata": {},
   "source": [
    "Indentation matters bro\n"
   ]
  },
  {
   "cell_type": "code",
   "execution_count": 4,
   "id": "b779a159",
   "metadata": {},
   "outputs": [
    {
     "name": "stdout",
     "output_type": "stream",
     "text": [
      "32\n"
     ]
    }
   ],
   "source": [
    "age=32\n",
    "if age>30:\n",
    "    print(age)"
   ]
  },
  {
   "cell_type": "code",
   "execution_count": 6,
   "id": "e267cc5a",
   "metadata": {},
   "outputs": [
    {
     "name": "stdout",
     "output_type": "stream",
     "text": [
      "Ayan\n",
      "True\n"
     ]
    }
   ],
   "source": [
    "# declaring and assigning variable\n",
    "name=\"Ayan\"\n",
    "is_student=True\n",
    "print(name)\n",
    "print(is_student)"
   ]
  },
  {
   "cell_type": "markdown",
   "id": "3a4e57c0",
   "metadata": {},
   "source": [
    "Dynamic Typing\n"
   ]
  },
  {
   "cell_type": "code",
   "execution_count": 7,
   "id": "c6ca8a8e",
   "metadata": {},
   "outputs": [
    {
     "name": "stdout",
     "output_type": "stream",
     "text": [
      "20 <class 'int'>\n",
      "ayan <class 'str'>\n"
     ]
    }
   ],
   "source": [
    "var=20\n",
    "print(var,type(var))\n",
    "var=\"ayan\"\n",
    "print(var,type(var))"
   ]
  },
  {
   "cell_type": "code",
   "execution_count": 8,
   "id": "557bd873",
   "metadata": {},
   "outputs": [
    {
     "name": "stdout",
     "output_type": "stream",
     "text": [
      "67\n",
      "-3\n",
      "1120\n"
     ]
    }
   ],
   "source": [
    "num1=int(input(\"Enter The first number\"))\n",
    "num2=int(input(\"Enter the second number\"))\n",
    "print(num1+num2)\n",
    "print(num1-num2)\n",
    "print(num1*num2)"
   ]
  },
  {
   "cell_type": "code",
   "execution_count": 10,
   "id": "3fbcb9f0",
   "metadata": {},
   "outputs": [
    {
     "name": "stdout",
     "output_type": "stream",
     "text": [
      "hello5\n"
     ]
    }
   ],
   "source": [
    "result=\"hello\"+str(5)\n",
    "print(result)"
   ]
  },
  {
   "cell_type": "code",
   "execution_count": null,
   "id": "02df27b1",
   "metadata": {},
   "outputs": [],
   "source": []
  }
 ],
 "metadata": {
  "kernelspec": {
   "display_name": "Python 3",
   "language": "python",
   "name": "python3"
  },
  "language_info": {
   "name": "python",
   "version": "3.12.0"
  }
 },
 "nbformat": 4,
 "nbformat_minor": 5
}
