{
 "cells": [
  {
   "cell_type": "code",
   "execution_count": null,
   "id": "6e507061",
   "metadata": {},
   "outputs": [
    {
     "name": "stdout",
     "output_type": "stream",
     "text": [
      "Hello ayan welcome to the paradise\n"
     ]
    }
   ],
   "source": [
    "def greet(name=\"guest\"): # it takes defualt as guest\n",
    "    print(f\"Hello {name} welcome to the paradise\")\n",
    "greet(\"ayan\")"
   ]
  },
  {
   "cell_type": "code",
   "execution_count": null,
   "id": "1e93b839",
   "metadata": {},
   "outputs": [
    {
     "name": "stdout",
     "output_type": "stream",
     "text": [
      "1\n",
      "2\n",
      "3\n",
      "4\n",
      "5\n",
      "6\n",
      "7\n",
      "8\n",
      "ayan\n",
      "3.23\n"
     ]
    }
   ],
   "source": [
    "## variable length arguments\n",
    "## positional and keywords arguments\n",
    "def print_numbers(*krish): # this is positional arguments\n",
    "    for number in krish:\n",
    "        print(number)\n",
    "print_numbers(1,2,3,4,5,6,7,8,\"ayan\",3.23)"
   ]
  },
  {
   "cell_type": "code",
   "execution_count": 2,
   "id": "b70b145b",
   "metadata": {},
   "outputs": [
    {
     "name": "stdout",
     "output_type": "stream",
     "text": [
      "name:ayan\n",
      "age:21\n",
      "country:india\n"
     ]
    }
   ],
   "source": [
    "# keywords arguments\n",
    "def print_details(**kwargs): # it is only used when it is in form of key and value pairs\n",
    "    for key,val in kwargs.items():\n",
    "        print(f\"{key}:{val}\")\n",
    "print_details(name=\"ayan\",age=\"21\",country=\"india\")\n"
   ]
  },
  {
   "cell_type": "code",
   "execution_count": 3,
   "id": "b71e5412",
   "metadata": {},
   "outputs": [],
   "source": [
    "def print_details(*args,**kwargs):\n",
    "    for value in args:\n",
    "        print(f\"positional arguments:{value}\")\n",
    "    \n",
    "    for key,val in kwargs.items():\n",
    "        print(f\"{key}:{val}\")\n",
    "        "
   ]
  },
  {
   "cell_type": "code",
   "execution_count": 4,
   "id": "e64e05f5",
   "metadata": {},
   "outputs": [
    {
     "name": "stdout",
     "output_type": "stream",
     "text": [
      "positional arguments:1\n",
      "positional arguments:2\n",
      "positional arguments:3\n",
      "positional arguments:4\n",
      "positional arguments:krish\n",
      "name:mock\n",
      "age:32\n",
      "country:India\n"
     ]
    }
   ],
   "source": [
    "print_details(1,2,3,4,\"krish\",name=\"mock\",age=\"32\",country=\"India\")"
   ]
  },
  {
   "cell_type": "markdown",
   "id": "7fc51d8f",
   "metadata": {},
   "source": [
    "password strength checker"
   ]
  },
  {
   "cell_type": "code",
   "execution_count": 9,
   "id": "40db6d27",
   "metadata": {},
   "outputs": [
    {
     "name": "stdout",
     "output_type": "stream",
     "text": [
      "False\n",
      "False\n",
      "True\n",
      "False\n"
     ]
    }
   ],
   "source": [
    "def is_strong_pass(password):\n",
    "    if len(password)<8:\n",
    "        return False\n",
    "    if not any(char.isdigit() for char in password):\n",
    "        return False\n",
    "    if not any(char.islower() for char in password):\n",
    "        return False\n",
    "    if not any(char.isupper() for char in password):\n",
    "        return False\n",
    "    if not any(char in '!@#$%^&*()_+=-`~:;><.,/?' for char in password):\n",
    "        return False\n",
    "    return True\n",
    "print(is_strong_pass(\"123\"))\n",
    "print(is_strong_pass(\"1aidewieufkew283612$%#$\"))\n",
    "print(is_strong_pass(\"ADERerjhewjf2321@$%#!\"))\n",
    "print(is_strong_pass(\"fbfd\"))\n",
    "\n",
    "    "
   ]
  },
  {
   "cell_type": "markdown",
   "id": "b5f5793a",
   "metadata": {},
   "source": [
    "read a file and count the frequency of each word"
   ]
  },
  {
   "cell_type": "code",
   "execution_count": 12,
   "id": "ab7b33df",
   "metadata": {},
   "outputs": [
    {
     "name": "stdout",
     "output_type": "stream",
     "text": [
      "{'hello': 2, 'world': 1, 'this': 1, 'is': 1, 'your': 1, 'mock': 2, '69': 1}\n"
     ]
    }
   ],
   "source": [
    "def count_word(file_path):\n",
    "    word_count={}\n",
    "    with open(file_path,'r') as file:\n",
    "        for line in file:\n",
    "            words=line.split()\n",
    "            for word in words:\n",
    "                word=word.lower().strip('.,!@#$%^&8;|')\n",
    "                word_count[word]=word_count.get(word,0)+1\n",
    "    return word_count\n",
    "filepath=\"sample.txt\"\n",
    "print(count_word(filepath))"
   ]
  },
  {
   "cell_type": "markdown",
   "id": "7555df9f",
   "metadata": {},
   "source": [
    "valid wmail address"
   ]
  },
  {
   "cell_type": "code",
   "execution_count": 14,
   "id": "7f85684c",
   "metadata": {},
   "outputs": [
    {
     "name": "stdout",
     "output_type": "stream",
     "text": [
      "True\n",
      "False\n"
     ]
    }
   ],
   "source": [
    "import re\n",
    "\n",
    "def is_valid(email):\n",
    "    pattern=r'^[a-zA-Z0-9_.+-]+@[a-zA-Z0-9-]+\\.[a-zA-Z0-9-.]+$'\n",
    "    return re.match(pattern,email) is not None\n",
    "print(is_valid(\"test@gmail.com\")) #True\n",
    "print(is_valid(\"invalid-email\"))  # False\n"
   ]
  },
  {
   "cell_type": "code",
   "execution_count": null,
   "id": "f0d8b8dc",
   "metadata": {},
   "outputs": [],
   "source": []
  }
 ],
 "metadata": {
  "kernelspec": {
   "display_name": "Python 3",
   "language": "python",
   "name": "python3"
  },
  "language_info": {
   "codemirror_mode": {
    "name": "ipython",
    "version": 3
   },
   "file_extension": ".py",
   "mimetype": "text/x-python",
   "name": "python",
   "nbconvert_exporter": "python",
   "pygments_lexer": "ipython3",
   "version": "3.12.0"
  }
 },
 "nbformat": 4,
 "nbformat_minor": 5
}
