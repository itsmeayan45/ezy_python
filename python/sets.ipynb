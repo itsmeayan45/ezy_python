{
 "cells": [
  {
   "cell_type": "code",
   "execution_count": 1,
   "id": "f2f70490",
   "metadata": {},
   "outputs": [
    {
     "name": "stdout",
     "output_type": "stream",
     "text": [
      "<class 'set'>\n",
      "{1, 2, 3, 4, 5, 6}\n"
     ]
    }
   ],
   "source": [
    "my_set={1,2,3,4,5,6}\n",
    "print(type(my_set))\n",
    "print(my_set)"
   ]
  },
  {
   "cell_type": "code",
   "execution_count": 3,
   "id": "9bb803cb",
   "metadata": {},
   "outputs": [
    {
     "name": "stdout",
     "output_type": "stream",
     "text": [
      "{1, 3, 5, 7}\n"
     ]
    }
   ],
   "source": [
    "empt=set([1,3,5,7])\n",
    "print(empt)"
   ]
  },
  {
   "cell_type": "code",
   "execution_count": 6,
   "id": "aa07fcb9",
   "metadata": {},
   "outputs": [
    {
     "data": {
      "text/plain": [
       "{1, 3, 5, 7, 8}"
      ]
     },
     "execution_count": 6,
     "metadata": {},
     "output_type": "execute_result"
    }
   ],
   "source": [
    "# adding and removing elements\n",
    "empt.add(8)\n",
    "empt"
   ]
  },
  {
   "cell_type": "code",
   "execution_count": 7,
   "id": "bf719659",
   "metadata": {},
   "outputs": [
    {
     "data": {
      "text/plain": [
       "{1, 3, 5, 8}"
      ]
     },
     "execution_count": 7,
     "metadata": {},
     "output_type": "execute_result"
    }
   ],
   "source": [
    "empt.remove(7)\n",
    "empt"
   ]
  },
  {
   "cell_type": "code",
   "execution_count": 9,
   "id": "1cdfe66a",
   "metadata": {},
   "outputs": [
    {
     "data": {
      "text/plain": [
       "{1, 3, 5, 8}"
      ]
     },
     "execution_count": 9,
     "metadata": {},
     "output_type": "execute_result"
    }
   ],
   "source": [
    "empt.discard(10) # if the element is not the member of the set, it will not give any error. it will just skip it using discard method\n",
    "empt"
   ]
  },
  {
   "cell_type": "code",
   "execution_count": 12,
   "id": "3703e30f",
   "metadata": {},
   "outputs": [
    {
     "name": "stdout",
     "output_type": "stream",
     "text": [
      "1\n",
      "{3, 5, 8}\n"
     ]
    }
   ],
   "source": [
    "# pop method\n",
    "rm=empt.pop()\n",
    "print(rm)\n",
    "print(empt)"
   ]
  },
  {
   "cell_type": "code",
   "execution_count": 13,
   "id": "09c99d5d",
   "metadata": {},
   "outputs": [
    {
     "name": "stdout",
     "output_type": "stream",
     "text": [
      "True\n",
      "False\n"
     ]
    }
   ],
   "source": [
    "# set membership test\n",
    "yo={1,2,3,4,5}\n",
    "print(3 in yo)\n",
    "print(10 in yo)"
   ]
  },
  {
   "cell_type": "markdown",
   "id": "37e36a86",
   "metadata": {},
   "source": [
    "Mathematical Operation"
   ]
  },
  {
   "cell_type": "code",
   "execution_count": 16,
   "id": "1679386e",
   "metadata": {},
   "outputs": [
    {
     "name": "stdout",
     "output_type": "stream",
     "text": [
      "{1, 2, 3, 4, 5, 6, 7, 8, 9}\n",
      "{4, 5, 6}\n",
      "{4, 5, 6}\n"
     ]
    }
   ],
   "source": [
    "set1={1,2,3,4,5,6}\n",
    "set2={4,5,6,7,8,9}\n",
    "## Union\n",
    "unionset=set1.union(set2)\n",
    "print(unionset)\n",
    "## intersection\n",
    "intersection=set1.intersection(set2)\n",
    "print(intersection)\n",
    "## find the intersection and update it to the set 1 automatically\n",
    "set1.intersection_update(set2)\n",
    "print(set1) "
   ]
  },
  {
   "cell_type": "code",
   "execution_count": 17,
   "id": "6563a4ab",
   "metadata": {},
   "outputs": [
    {
     "name": "stdout",
     "output_type": "stream",
     "text": [
      "{1, 2, 3}\n"
     ]
    }
   ],
   "source": [
    "set1={1,2,3,4,5,6}\n",
    "set2={4,5,6,7,8,9}\n",
    "diff=set1.difference(set2)\n",
    "print(diff)"
   ]
  },
  {
   "cell_type": "code",
   "execution_count": 2,
   "id": "fb517813",
   "metadata": {},
   "outputs": [
    {
     "data": {
      "text/plain": [
       "{1, 2, 3, 7, 8, 9}"
      ]
     },
     "execution_count": 2,
     "metadata": {},
     "output_type": "execute_result"
    }
   ],
   "source": [
    "## symmetric difference\n",
    "set1={1,2,3,4,5,6}\n",
    "set2={4,5,6,7,8,9}\n",
    "set1.symmetric_difference(set2)"
   ]
  },
  {
   "cell_type": "code",
   "execution_count": 4,
   "id": "d07dc468",
   "metadata": {},
   "outputs": [
    {
     "name": "stdout",
     "output_type": "stream",
     "text": [
      "False\n",
      "True\n"
     ]
    }
   ],
   "source": [
    "set1={2,3,4,5,6}\n",
    "set2={3,4,5}\n",
    "print(set1.issubset(set2))\n",
    "print(set1.issuperset(set2))"
   ]
  },
  {
   "cell_type": "code",
   "execution_count": 5,
   "id": "98165aef",
   "metadata": {},
   "outputs": [
    {
     "data": {
      "text/plain": [
       "{1, 2, 3, 4, 5}"
      ]
     },
     "execution_count": 5,
     "metadata": {},
     "output_type": "execute_result"
    }
   ],
   "source": [
    "lt=[1,2,3,4,5,4,2]\n",
    "set(lt)"
   ]
  },
  {
   "cell_type": "code",
   "execution_count": 7,
   "id": "27e298b9",
   "metadata": {},
   "outputs": [
    {
     "name": "stdout",
     "output_type": "stream",
     "text": [
      "{'this', 'tutorial,', 'about', 'we', 'discussing', 'sets', 'are', 'In'}\n",
      "8\n"
     ]
    }
   ],
   "source": [
    "## counting unique words in text\n",
    "text=\"In this tutorial, we are discussing about sets\"\n",
    "words=text.split()\n",
    "## convert the list of words to set to get the unique item\n",
    "print(set(words))\n",
    "print(len(set(words)))"
   ]
  },
  {
   "cell_type": "code",
   "execution_count": null,
   "id": "a7928e06",
   "metadata": {},
   "outputs": [],
   "source": []
  }
 ],
 "metadata": {
  "kernelspec": {
   "display_name": "Python 3",
   "language": "python",
   "name": "python3"
  },
  "language_info": {
   "codemirror_mode": {
    "name": "ipython",
    "version": 3
   },
   "file_extension": ".py",
   "mimetype": "text/x-python",
   "name": "python",
   "nbconvert_exporter": "python",
   "pygments_lexer": "ipython3",
   "version": "3.12.0"
  }
 },
 "nbformat": 4,
 "nbformat_minor": 5
}
