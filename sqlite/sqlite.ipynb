{
 "cells": [
  {
   "cell_type": "markdown",
   "id": "c85e8f61",
   "metadata": {},
   "source": [
    "SQL(Structured Query Language) is a standard language for managing and manipulationg relational databases. sqlite is a self-contained,serverless and zero-configuration database engine that is widely used for embedded database system"
   ]
  },
  {
   "cell_type": "code",
   "execution_count": 1,
   "id": "7e69be04",
   "metadata": {},
   "outputs": [],
   "source": [
    "import sqlite3"
   ]
  },
  {
   "cell_type": "code",
   "execution_count": 2,
   "id": "649b6297",
   "metadata": {},
   "outputs": [
    {
     "data": {
      "text/plain": [
       "<sqlite3.Connection at 0x2bd41d518a0>"
      ]
     },
     "execution_count": 2,
     "metadata": {},
     "output_type": "execute_result"
    }
   ],
   "source": [
    "## connect to an sqlite database\n",
    "connection=sqlite3.connect('example.db')\n",
    "connection"
   ]
  },
  {
   "cell_type": "code",
   "execution_count": 3,
   "id": "c05da7c5",
   "metadata": {},
   "outputs": [],
   "source": [
    "cursor=connection.cursor()"
   ]
  },
  {
   "cell_type": "code",
   "execution_count": 16,
   "id": "5dca2b45",
   "metadata": {},
   "outputs": [],
   "source": [
    "## create a table\n",
    "cursor.execute('''\n",
    "    create Table if not exists employees\n",
    "    (\n",
    "        id Integer Primary Key,\n",
    "        name Text Not Null,\n",
    "        age Integer,\n",
    "        department text\n",
    "    )\n",
    "''')\n",
    "## commit the changes(Must do after any type of operation in sqlite 3)\n",
    "connection.commit()"
   ]
  },
  {
   "cell_type": "code",
   "execution_count": 12,
   "id": "721e6bf2",
   "metadata": {},
   "outputs": [
    {
     "data": {
      "text/plain": [
       "<sqlite3.Cursor at 0x2bd41f55840>"
      ]
     },
     "execution_count": 12,
     "metadata": {},
     "output_type": "execute_result"
    }
   ],
   "source": [
    "cursor.execute('''\n",
    "   Select * from employees\n",
    "''')"
   ]
  },
  {
   "cell_type": "code",
   "execution_count": 13,
   "id": "113d052e",
   "metadata": {},
   "outputs": [],
   "source": [
    "## insert the data in sqlite table\n",
    "cursor.execute('''\n",
    "    Insert Into employees(name,age,department)\n",
    "                values('ayan',20,'Data Scientist')\n",
    "               \n",
    "''')\n",
    "cursor.execute('''\n",
    "    Insert Into employees(name,age,department)\n",
    "                values('bob',30,'Finance')\n",
    "               \n",
    "''')\n",
    "cursor.execute('''\n",
    "    Insert Into employees(name,age,department)\n",
    "                values('chalie',35,'engineering')\n",
    "               \n",
    "''')\n",
    "# commit the changes\n",
    "connection.commit()"
   ]
  },
  {
   "cell_type": "code",
   "execution_count": 15,
   "id": "406ab72b",
   "metadata": {},
   "outputs": [
    {
     "name": "stdout",
     "output_type": "stream",
     "text": [
      "(1, 'ayan', 20, 'Data Scientist')\n",
      "(2, 'bob', 30, 'Finance')\n",
      "(3, 'chalie', 35, 'engineering')\n"
     ]
    }
   ],
   "source": [
    "## query the data from the table\n",
    "cursor.execute('Select * from employees')\n",
    "rows=cursor.fetchall()\n",
    "\n",
    "## print the queried data\n",
    "for row in rows:\n",
    "    print(row)\n"
   ]
  },
  {
   "cell_type": "code",
   "execution_count": 17,
   "id": "83ad6f00",
   "metadata": {},
   "outputs": [],
   "source": [
    "## update the data in the table\n",
    "cursor.execute('''\n",
    "    UPDATE employees\n",
    "    Set age=32\n",
    "               \n",
    "    where name='bob'\n",
    "''')\n",
    "\n",
    "connection.commit()"
   ]
  },
  {
   "cell_type": "code",
   "execution_count": 18,
   "id": "4f5edbc8",
   "metadata": {},
   "outputs": [
    {
     "name": "stdout",
     "output_type": "stream",
     "text": [
      "(1, 'ayan', 20, 'Data Scientist')\n",
      "(2, 'bob', 32, 'Finance')\n",
      "(3, 'chalie', 35, 'engineering')\n"
     ]
    }
   ],
   "source": [
    "## query the data from the table\n",
    "cursor.execute('Select * from employees')\n",
    "rows=cursor.fetchall()\n",
    "\n",
    "## print the queried data\n",
    "for row in rows:\n",
    "    print(row)"
   ]
  },
  {
   "cell_type": "code",
   "execution_count": 19,
   "id": "4d131d8c",
   "metadata": {},
   "outputs": [],
   "source": [
    "## delete the data from the table\n",
    "cursor.execute('''\n",
    "    Delete from employees\n",
    "               where name='bob'\n",
    "''')\n",
    "connection.commit()"
   ]
  },
  {
   "cell_type": "code",
   "execution_count": 20,
   "id": "e305d0e7",
   "metadata": {},
   "outputs": [
    {
     "name": "stdout",
     "output_type": "stream",
     "text": [
      "(1, 'ayan', 20, 'Data Scientist')\n",
      "(3, 'chalie', 35, 'engineering')\n"
     ]
    }
   ],
   "source": [
    "## query the data from the table\n",
    "cursor.execute('Select * from employees')\n",
    "rows=cursor.fetchall()\n",
    "\n",
    "## print the queried data\n",
    "for row in rows:\n",
    "    print(row)"
   ]
  },
  {
   "cell_type": "code",
   "execution_count": 22,
   "id": "c107c24f",
   "metadata": {},
   "outputs": [],
   "source": [
    "## working with sales data\n",
    "## connection to an sqlite database\n",
    "connection=sqlite3.connect('sales_data.db')\n",
    "cursor=connection.cursor()\n",
    "cursor.execute('''\n",
    "CREATE TABLE IF NOT EXISTS sales(\n",
    "               id INTEGER PRIMARY KEY,\n",
    "               date TEXT NOT NULL,\n",
    "               product TEXT NOT NULL,\n",
    "               sales INTEGER,\n",
    "               region TEXT\n",
    "               )\n",
    "''')\n",
    "## insert date into the sales table\n",
    "sales_data=[\n",
    "    ('2025-01-01','product1',100,'North'),\n",
    "    ('2025-01-02','product2',200,'South'),\n",
    "    ('2025-01-03','product1',150,'East'),\n",
    "    ('2025-01-04','product3',250,'West'),\n",
    "    ('2025-01-05','product2',300,'North')\n",
    "]\n",
    "cursor.executemany('''\n",
    "Insert into sales(date,product,sales,region)\n",
    "                   values(?,?,?,?)\n",
    "''',sales_data)\n",
    "connection.commit()"
   ]
  },
  {
   "cell_type": "code",
   "execution_count": 24,
   "id": "5351128b",
   "metadata": {},
   "outputs": [
    {
     "name": "stdout",
     "output_type": "stream",
     "text": [
      "(1, '2025-01-01', 'product1', 100, 'North')\n",
      "(2, '2025-01-02', 'product2', 200, 'South')\n",
      "(3, '2025-01-03', 'product1', 150, 'East')\n",
      "(4, '2025-01-04', 'product3', 250, 'West')\n",
      "(5, '2025-01-05', 'product2', 300, 'North')\n"
     ]
    }
   ],
   "source": [
    "## query the data from the table\n",
    "cursor.execute('Select * from sales')\n",
    "rows=cursor.fetchall()\n",
    "\n",
    "## print the queried data\n",
    "for row in rows:\n",
    "    print(row)"
   ]
  },
  {
   "cell_type": "code",
   "execution_count": 25,
   "id": "7256a5bb",
   "metadata": {},
   "outputs": [],
   "source": [
    "## close the connection\n",
    "connection.close()"
   ]
  },
  {
   "cell_type": "code",
   "execution_count": 26,
   "id": "1f10925e",
   "metadata": {},
   "outputs": [
    {
     "ename": "ProgrammingError",
     "evalue": "Cannot operate on a closed database.",
     "output_type": "error",
     "traceback": [
      "\u001b[31m---------------------------------------------------------------------------\u001b[39m",
      "\u001b[31mProgrammingError\u001b[39m                          Traceback (most recent call last)",
      "\u001b[36mCell\u001b[39m\u001b[36m \u001b[39m\u001b[32mIn[26]\u001b[39m\u001b[32m, line 2\u001b[39m\n\u001b[32m      1\u001b[39m \u001b[38;5;66;03m## query the data from the table\u001b[39;00m\n\u001b[32m----> \u001b[39m\u001b[32m2\u001b[39m \u001b[43mcursor\u001b[49m\u001b[43m.\u001b[49m\u001b[43mexecute\u001b[49m\u001b[43m(\u001b[49m\u001b[33;43m'\u001b[39;49m\u001b[33;43mSelect * from sales\u001b[39;49m\u001b[33;43m'\u001b[39;49m\u001b[43m)\u001b[49m\n\u001b[32m      3\u001b[39m rows=cursor.fetchall()\n\u001b[32m      5\u001b[39m \u001b[38;5;66;03m## print the queried data\u001b[39;00m\n",
      "\u001b[31mProgrammingError\u001b[39m: Cannot operate on a closed database."
     ]
    }
   ],
   "source": [
    "## query the data from the table\n",
    "cursor.execute('Select * from sales')\n",
    "rows=cursor.fetchall()\n",
    "\n",
    "## print the queried data\n",
    "for row in rows:\n",
    "    print(row)\n",
    "\n",
    "## now we can't connect the database as we close the connection"
   ]
  },
  {
   "cell_type": "code",
   "execution_count": null,
   "id": "039f5f13",
   "metadata": {},
   "outputs": [],
   "source": []
  }
 ],
 "metadata": {
  "kernelspec": {
   "display_name": "Python 3",
   "language": "python",
   "name": "python3"
  },
  "language_info": {
   "codemirror_mode": {
    "name": "ipython",
    "version": 3
   },
   "file_extension": ".py",
   "mimetype": "text/x-python",
   "name": "python",
   "nbconvert_exporter": "python",
   "pygments_lexer": "ipython3",
   "version": "3.12.0"
  }
 },
 "nbformat": 4,
 "nbformat_minor": 5
}
