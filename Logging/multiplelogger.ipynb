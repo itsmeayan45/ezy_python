{
 "cells": [
  {
   "cell_type": "markdown",
   "id": "337a934b",
   "metadata": {},
   "source": [
    "you can create multiple loggers for different parts of your application"
   ]
  },
  {
   "cell_type": "code",
   "execution_count": 1,
   "id": "7751bb75",
   "metadata": {},
   "outputs": [],
   "source": [
    "import logging\n",
    "## create a logger for module 1\n",
    "logger1=logging.getLogger(\"module 1\")\n",
    "logger1.setLevel(logging.DEBUG)\n",
    "## create a logger for module2\n",
    "logger2=logging.getLogger(\"module2\")\n",
    "logger2.setLevel(logging.WARNING)\n",
    "\n",
    "## configure logging settings\n",
    "logging.basicConfig(\n",
    "    level=logging.DEBUG,\n",
    "    format='%(asctime)s - %(name)s - %(levelname)s - %(message)s',\n",
    "    datefmt='%Y-%m-%d %H:%M:%S'\n",
    ")\n",
    "\n"
   ]
  },
  {
   "cell_type": "code",
   "execution_count": 2,
   "id": "b05b8c53",
   "metadata": {},
   "outputs": [
    {
     "name": "stderr",
     "output_type": "stream",
     "text": [
      "2025-06-23 10:40:15 - module 1 - DEBUG - This is a debug message for module 1\n",
      "2025-06-23 10:40:15 - module2 - WARNING - This is a warning message for module 2\n",
      "2025-06-23 10:40:15 - module2 - ERROR - this is an error message\n"
     ]
    }
   ],
   "source": [
    "## log messages with different loggers\n",
    "\n",
    "logger1.debug(\"This is a debug message for module 1\")\n",
    "logger2.warning(\"This is a warning message for module 2\")\n",
    "logger2.error(\"this is an error message\")"
   ]
  },
  {
   "cell_type": "code",
   "execution_count": null,
   "id": "1c1bd13c",
   "metadata": {},
   "outputs": [],
   "source": []
  }
 ],
 "metadata": {
  "kernelspec": {
   "display_name": "Python 3",
   "language": "python",
   "name": "python3"
  },
  "language_info": {
   "codemirror_mode": {
    "name": "ipython",
    "version": 3
   },
   "file_extension": ".py",
   "mimetype": "text/x-python",
   "name": "python",
   "nbconvert_exporter": "python",
   "pygments_lexer": "ipython3",
   "version": "3.12.0"
  }
 },
 "nbformat": 4,
 "nbformat_minor": 5
}
