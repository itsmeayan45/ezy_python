{
 "cells": [
  {
   "cell_type": "markdown",
   "id": "21a8aba8",
   "metadata": {},
   "source": [
    "Polymorphism allows object of different classes to be treated as object of a common superclass  "
   ]
  },
  {
   "cell_type": "code",
   "execution_count": 3,
   "id": "4aa593c5",
   "metadata": {},
   "outputs": [
    {
     "name": "stdout",
     "output_type": "stream",
     "text": [
      "Woooff!!\n",
      "Meow!\n",
      "Woooff!!\n"
     ]
    }
   ],
   "source": [
    "### methods overriding\n",
    "## base class\n",
    "class Animal:\n",
    "    def speak(self):\n",
    "        return \"Sound of the animal\"\n",
    "## derived class\n",
    "class Dog(Animal):\n",
    "    def speak(self):\n",
    "        return \"Woooff!!\"\n",
    "    \n",
    "## derived class\n",
    "class Cat(Animal):\n",
    "    def speak(self):\n",
    "        return \"Meow!\"\n",
    "## funtion that  demonstrate polymorphism\n",
    "def animal_speak(animal):\n",
    "    print(animal.speak())    \n",
    "\n",
    "dog=Dog()\n",
    "cat=Cat()\n",
    "print(dog.speak())\n",
    "print(cat.speak())\n",
    "animal_speak(dog)"
   ]
  },
  {
   "cell_type": "code",
   "execution_count": 4,
   "id": "805a470b",
   "metadata": {},
   "outputs": [
    {
     "name": "stdout",
     "output_type": "stream",
     "text": [
      "the area is 20\n",
      "the area is 28.259999999999998\n"
     ]
    }
   ],
   "source": [
    "## polymorphism with function and methods\n",
    "## base class\n",
    "class Shape:\n",
    "    def area(self):\n",
    "        return \"The area of the figure\"\n",
    "    \n",
    "# Derived class 1\n",
    "class Reactangle(Shape):\n",
    "    def __init__(self,width,height):\n",
    "        self.width=width\n",
    "        self.height=height\n",
    "\n",
    "    def area(self):\n",
    "        return self.width * self.height\n",
    "\n",
    "# Derived class 2\n",
    "class Circle(Shape):\n",
    "    def __init__(self,radius):\n",
    "        self.raius=radius\n",
    "    def area(self):\n",
    "        return 3.14*self.raius*self.raius\n",
    "    \n",
    "## function that demonstrate polymorphism\n",
    "\n",
    "def print_area(shape):\n",
    "    print(f\"the area is {shape.area()}\")\n",
    "\n",
    "reactangle=Reactangle(4,5)\n",
    "circle=Circle(3)\n",
    "\n",
    "print_area(reactangle)\n",
    "print_area(circle)"
   ]
  },
  {
   "cell_type": "code",
   "execution_count": 5,
   "id": "a34c30d6",
   "metadata": {},
   "outputs": [
    {
     "name": "stdout",
     "output_type": "stream",
     "text": [
      "Car engine started\n"
     ]
    }
   ],
   "source": [
    "## polymorphism with abstract base class\n",
    "from abc import ABC,abstractmethod\n",
    "## define an abstract class\n",
    "class Vehicle(ABC):\n",
    "    @abstractmethod\n",
    "    def start_engine(Self):\n",
    "        pass\n",
    "## derived class 1\n",
    "class Car(Vehicle):\n",
    "    def start_engine(Self):\n",
    "        return \"Car engine started\"\n",
    "## derived class 2\n",
    "class Motorcycle(Vehicle):\n",
    "    def start_engine(Self):\n",
    "        \n",
    "        return \"Motorcycle engine started\"\n",
    "    \n",
    "## function that demonstrate polymorphism\n",
    "def start_vehicle(vehicle):\n",
    "    print(vehicle.start_engine())\n",
    "## create objects of car and motorcycle \n",
    "car=Car()\n",
    "motorcycle=Motorcycle()\n",
    "\n",
    "start_vehicle(car)\n",
    "    "
   ]
  },
  {
   "cell_type": "code",
   "execution_count": null,
   "id": "a93f9f05",
   "metadata": {},
   "outputs": [],
   "source": []
  }
 ],
 "metadata": {
  "kernelspec": {
   "display_name": "Python 3",
   "language": "python",
   "name": "python3"
  },
  "language_info": {
   "codemirror_mode": {
    "name": "ipython",
    "version": 3
   },
   "file_extension": ".py",
   "mimetype": "text/x-python",
   "name": "python",
   "nbconvert_exporter": "python",
   "pygments_lexer": "ipython3",
   "version": "3.12.0"
  }
 },
 "nbformat": 4,
 "nbformat_minor": 5
}
