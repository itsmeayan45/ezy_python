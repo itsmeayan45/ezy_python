{
 "cells": [
  {
   "cell_type": "markdown",
   "id": "44661a96",
   "metadata": {},
   "source": [
    "Abstraction is the concept of hiding the complex implemention details and showing only the necessary features of an object.This helps in reducing programming complexity and efforts"
   ]
  },
  {
   "cell_type": "code",
   "execution_count": 2,
   "id": "683610b0",
   "metadata": {},
   "outputs": [
    {
     "name": "stdout",
     "output_type": "stream",
     "text": [
      "Car engine started\n",
      "The vehicle is used for driving\n"
     ]
    }
   ],
   "source": [
    "from abc import ABC,abstractmethod\n",
    "## define abstract base class\n",
    "class Vehicle(ABC):\n",
    "    def drive(self):\n",
    "        print(\"The vehicle is used for driving\")\n",
    "    @abstractmethod\n",
    "    def start_engine(Self):\n",
    "        pass\n",
    "class Car(Vehicle):\n",
    "    def start_engine(self):\n",
    "        print(\"Car engine started\")\n",
    "def operate_vehicle(vehicle):\n",
    "    vehicle.start_engine()\n",
    "    vehicle.drive()\n",
    "\n",
    "car=Car()\n",
    "operate_vehicle(car)"
   ]
  },
  {
   "cell_type": "markdown",
   "id": "e8e65671",
   "metadata": {},
   "source": [
    "### MAGIC METHODS\n",
    "dunder methods they say,well say (It starts and ends with double underscore)"
   ]
  },
  {
   "cell_type": "code",
   "execution_count": 3,
   "id": "839a3897",
   "metadata": {},
   "outputs": [
    {
     "data": {
      "text/plain": [
       "['__class__',\n",
       " '__delattr__',\n",
       " '__dict__',\n",
       " '__dir__',\n",
       " '__doc__',\n",
       " '__eq__',\n",
       " '__format__',\n",
       " '__ge__',\n",
       " '__getattribute__',\n",
       " '__getstate__',\n",
       " '__gt__',\n",
       " '__hash__',\n",
       " '__init__',\n",
       " '__init_subclass__',\n",
       " '__le__',\n",
       " '__lt__',\n",
       " '__module__',\n",
       " '__ne__',\n",
       " '__new__',\n",
       " '__reduce__',\n",
       " '__reduce_ex__',\n",
       " '__repr__',\n",
       " '__setattr__',\n",
       " '__sizeof__',\n",
       " '__str__',\n",
       " '__subclasshook__',\n",
       " '__weakref__']"
      ]
     },
     "execution_count": 3,
     "metadata": {},
     "output_type": "execute_result"
    }
   ],
   "source": [
    "'''\n",
    "__init__:\n",
    "__str__:\n",
    "__len__:\n",
    "etc....\n",
    "'''\n",
    "\n",
    "class Person:\n",
    "    pass\n",
    "person=Person()\n",
    "dir(person)"
   ]
  },
  {
   "cell_type": "code",
   "execution_count": 5,
   "id": "001b9a0e",
   "metadata": {},
   "outputs": [
    {
     "name": "stdout",
     "output_type": "stream",
     "text": [
      "<__main__.Person object at 0x000002551D2A0B30>\n",
      "<__main__.Person object at 0x000002551D333A10>\n"
     ]
    }
   ],
   "source": [
    "print(person) ## here we used __str__\n",
    "## basic methods\n",
    "class Person:\n",
    "    def __init__(self,name,age):\n",
    "        self.name=name\n",
    "        self.age=age\n",
    "\n",
    "person=Person(\"Ayan\",21)\n",
    "print(person)"
   ]
  },
  {
   "cell_type": "code",
   "execution_count": 7,
   "id": "63354d20",
   "metadata": {},
   "outputs": [
    {
     "name": "stdout",
     "output_type": "stream",
     "text": [
      "Ayan,21 years old\n",
      "Person(name=Ayan,age=21)\n"
     ]
    }
   ],
   "source": [
    "class Person:\n",
    "    def __init__(self,name,age):\n",
    "        self.name=name\n",
    "        self.age=age\n",
    "    def __str__(self):\n",
    "        return f\"{self.name},{self.age} years old\"\n",
    "    def __repr__(self):\n",
    "        return f\"Person(name={self.name},age={self.age})\"\n",
    "        \n",
    "\n",
    "person=Person(\"Ayan\",21)\n",
    "print(person)\n",
    "print(repr(person))"
   ]
  },
  {
   "cell_type": "markdown",
   "id": "5f69484a",
   "metadata": {},
   "source": [
    "Operator Overloading\n"
   ]
  },
  {
   "cell_type": "code",
   "execution_count": 11,
   "id": "d204ea6a",
   "metadata": {},
   "outputs": [
    {
     "data": {
      "text/plain": [
       "True"
      ]
     },
     "execution_count": 11,
     "metadata": {},
     "output_type": "execute_result"
    }
   ],
   "source": [
    "12>=12"
   ]
  },
  {
   "cell_type": "code",
   "execution_count": 13,
   "id": "41daef01",
   "metadata": {},
   "outputs": [
    {
     "name": "stdout",
     "output_type": "stream",
     "text": [
      "<__main__.Vector object at 0x000002551D5C8650>\n",
      "<__main__.Vector object at 0x000002551D5C8650>\n",
      "<__main__.Vector object at 0x000002551D5C8650>\n"
     ]
    }
   ],
   "source": [
    "## mathematical operation for vectors\n",
    "class Vector:\n",
    "    def __init__(self,x,y):\n",
    "        self.x=x\n",
    "        self.y=y\n",
    "    def __add__(self,other):\n",
    "        return Vector(self.x+other.x,self.y+other.y)\n",
    "    def __sub__(self,other):\n",
    "        return Vector(self.x-other.x,self.y-other.y)\n",
    "    def __mul__(self,other):\n",
    "        return Vector(self.x*other,self.y*other)\n",
    "    def __eq__(self,other):\n",
    "        return Vector(self.x==other.x and self.y==other.y)\n",
    "    \n",
    "    def __repr(self):\n",
    "        return f\"Vector ({self.x},{self.y})\"\n",
    "    # create objects of the vector class\n",
    "v1=Vector(2,3)\n",
    "v2=Vector(4,5)\n",
    "print(v1*3)\n",
    "print(v1+v2)\n",
    "print(v1-v2)\n",
    "\n"
   ]
  },
  {
   "cell_type": "markdown",
   "id": "e89ee57a",
   "metadata": {},
   "source": [
    "Custom Exception (Rise and throw exception)\n"
   ]
  },
  {
   "cell_type": "code",
   "execution_count": 14,
   "id": "6ad41521",
   "metadata": {},
   "outputs": [],
   "source": [
    "class Error(Exception):\n",
    "    pass\n",
    "class dobException(Error):\n",
    "    pass\n"
   ]
  },
  {
   "cell_type": "code",
   "execution_count": 16,
   "id": "8ad6bd37",
   "metadata": {},
   "outputs": [
    {
     "name": "stdout",
     "output_type": "stream",
     "text": [
      "Sorry , your age should be greater than 20 or less than 30 \n"
     ]
    }
   ],
   "source": [
    "year=int(input(\"Enter the date of birth: \"))\n",
    "age=2025-year\n",
    "try:\n",
    "    if age<=30 and age>=20:\n",
    "        print(\"The age is valid, you can apply for the exam\")\n",
    "    else:\n",
    "        raise dobException\n",
    "except dobException:\n",
    "    print(\"Sorry , your age should be greater than 20 or less than 30 \")"
   ]
  },
  {
   "cell_type": "code",
   "execution_count": null,
   "id": "cbc77304",
   "metadata": {},
   "outputs": [],
   "source": []
  }
 ],
 "metadata": {
  "kernelspec": {
   "display_name": "Python 3",
   "language": "python",
   "name": "python3"
  },
  "language_info": {
   "codemirror_mode": {
    "name": "ipython",
    "version": 3
   },
   "file_extension": ".py",
   "mimetype": "text/x-python",
   "name": "python",
   "nbconvert_exporter": "python",
   "pygments_lexer": "ipython3",
   "version": "3.12.0"
  }
 },
 "nbformat": 4,
 "nbformat_minor": 5
}
