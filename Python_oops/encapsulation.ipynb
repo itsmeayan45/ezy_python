{
 "cells": [
  {
   "cell_type": "markdown",
   "id": "29854a04",
   "metadata": {},
   "source": [
    "Encapsulation is the concept of warapping data and methods together as a single unit."
   ]
  },
  {
   "cell_type": "code",
   "execution_count": 5,
   "id": "d6b2b423",
   "metadata": {},
   "outputs": [
    {
     "name": "stdout",
     "output_type": "stream",
     "text": [
      "ayan\n"
     ]
    },
    {
     "data": {
      "text/plain": [
       "'ayan'"
      ]
     },
     "execution_count": 5,
     "metadata": {},
     "output_type": "execute_result"
    }
   ],
   "source": [
    "### Encapsulation with getter and setter\n",
    "## public,protected,private variables or access modifiers\n",
    "class Person:\n",
    "    def __init__(self,name,age):\n",
    "        self.name=name # public variable\n",
    "        self.age=age   # public variable\n",
    "def get_name(person):\n",
    "    return person.name\n",
    "person=Person(\"ayan\",21)\n",
    "print(person.name)\n",
    "get_name(person)"
   ]
  },
  {
   "cell_type": "code",
   "execution_count": null,
   "id": "d3292931",
   "metadata": {},
   "outputs": [
    {
     "ename": "NameError",
     "evalue": "name '__person' is not defined",
     "output_type": "error",
     "traceback": [
      "\u001b[31m---------------------------------------------------------------------------\u001b[39m",
      "\u001b[31mNameError\u001b[39m                                 Traceback (most recent call last)",
      "\u001b[36mCell\u001b[39m\u001b[36m \u001b[39m\u001b[32mIn[14]\u001b[39m\u001b[32m, line 10\u001b[39m\n\u001b[32m      8\u001b[39m person=Person(\u001b[33m\"\u001b[39m\u001b[33mayan\u001b[39m\u001b[33m\"\u001b[39m,\u001b[32m21\u001b[39m)\n\u001b[32m      9\u001b[39m \u001b[38;5;66;03m#print(person.__name)\u001b[39;00m\n\u001b[32m---> \u001b[39m\u001b[32m10\u001b[39m get_name(\u001b[43m__person\u001b[49m.__name)\n",
      "\u001b[31mNameError\u001b[39m: name '__person' is not defined"
     ]
    }
   ],
   "source": [
    "class Person:\n",
    "    def __init__(self,name,age):\n",
    "        self.__name=name # private variable\n",
    "        self.__age=age   # private variable\n",
    "def get_name(person):\n",
    "    return person.__name\n",
    "\n",
    "person=Person(\"ayan\",21)\n",
    "#print(person.__name)\n",
    "get_name()"
   ]
  },
  {
   "cell_type": "code",
   "execution_count": 18,
   "id": "3087f411",
   "metadata": {},
   "outputs": [
    {
     "name": "stdout",
     "output_type": "stream",
     "text": [
      "Ayan\n"
     ]
    }
   ],
   "source": [
    "class Person:\n",
    "    def __init__(self,name,age,gender):\n",
    "        self._name=name # protected variable\n",
    "        self._age=age   # protected variable\n",
    "class Employee(Person):\n",
    "    def __init__(self,name,age,gender):\n",
    "        super().__init__(name,age,gender)\n",
    "\n",
    "\n",
    "employee=Employee(\"Ayan\",21,\"Male\")\n",
    "print(employee._name)"
   ]
  },
  {
   "cell_type": "code",
   "execution_count": 19,
   "id": "54870c2f",
   "metadata": {},
   "outputs": [
    {
     "name": "stdout",
     "output_type": "stream",
     "text": [
      "Ayan\n",
      "21\n",
      "22\n",
      "Age can't be negative\n"
     ]
    }
   ],
   "source": [
    "## Encapsulation with getter and setter\n",
    "class Person:\n",
    "    def __init__(self,name,age):\n",
    "        self.__name=name\n",
    "        self.__age=age\n",
    "    ## getter method for name\n",
    "    def get_name(self):\n",
    "        return self.__name\n",
    "    ## setter method for name\n",
    "    def set_name(self,name):\n",
    "        self.__name=name\n",
    "    ## getter method for age\n",
    "    def get_age(self):\n",
    "        return self.__age\n",
    "    ## setter method for age\n",
    "    def set_age(self,age):\n",
    "        if age>0:\n",
    "            self.__age=age\n",
    "        else:\n",
    "            print(\"Age can't be negative\")\n",
    "\n",
    "\n",
    "person=Person(\"Ayan\",21)\n",
    "## Access and modify private variables using getter and setter\n",
    "\n",
    "print(person.get_name())\n",
    "print(person.get_age())\n",
    "person.set_age(22)\n",
    "print(person.get_age())\n",
    "person.set_age(-5)"
   ]
  },
  {
   "cell_type": "code",
   "execution_count": null,
   "id": "5a5c4d9b",
   "metadata": {},
   "outputs": [],
   "source": []
  }
 ],
 "metadata": {
  "kernelspec": {
   "display_name": "Python 3",
   "language": "python",
   "name": "python3"
  },
  "language_info": {
   "codemirror_mode": {
    "name": "ipython",
    "version": 3
   },
   "file_extension": ".py",
   "mimetype": "text/x-python",
   "name": "python",
   "nbconvert_exporter": "python",
   "pygments_lexer": "ipython3",
   "version": "3.12.0"
  }
 },
 "nbformat": 4,
 "nbformat_minor": 5
}
